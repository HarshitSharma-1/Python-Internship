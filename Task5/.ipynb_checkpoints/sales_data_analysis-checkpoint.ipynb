{
 "cells": [
  {
   "cell_type": "code",
   "execution_count": null,
   "id": "f5cc1b3c",
   "metadata": {
    "vscode": {
     "languageId": "plaintext"
    }
   },
   "outputs": [],
   "source": [
    "# Import required libraries\n",
    "import pandas as pd\n",
    "import numpy as np\n",
    "import matplotlib.pyplot as plt\n",
    "import seaborn as sns\n",
    "from datetime import datetime, timedelta\n",
    "import warnings\n",
    "warnings.filterwarnings('ignore')\n",
    "\n",
    "# Set up plotting style\n",
    "plt.style.use('seaborn-v0_8')\n",
    "sns.set_palette(\"husl\")\n",
    "%matplotlib inline\n",
    "\n",
    "print(\"✅ Libraries imported successfully!\")"
   ]
  },
  {
   "cell_type": "code",
   "execution_count": null,
   "metadata": {
    "vscode": {
     "languageId": "plaintext"
    }
   },
   "outputs": [],
   "source": [
    "# Create sample sales data\n",
    "def generate_sample_sales_data():\n",
    "    np.random.seed(42)\n",
    "    \n",
    "    # Generate dates for the past year\n",
    "    dates = pd.date_range(start='2023-01-01', end='2023-12-31', freq='D')\n",
    "    \n",
    "    # Products\n",
    "    products = ['Laptop', 'Smartphone', 'Tablet', 'Headphones', 'Monitor', \n",
    "                'Keyboard', 'Mouse', 'Printer', 'Camera', 'Smartwatch']\n",
    "    \n",
    "    # Regions\n",
    "    regions = ['North', 'South', 'East', 'West']\n",
    "    \n",
    "    # Sales channels\n",
    "    channels = ['Online', 'Retail', 'Wholesale']\n",
    "    \n",
    "    # Generate sample data\n",
    "    data = []\n",
    "    for date in dates:\n",
    "        for _ in range(np.random.randint(50, 100)):  # Daily transactions\n",
    "            product = np.random.choice(products)\n",
    "            region = np.random.choice(regions)\n",
    "            channel = np.random.choice(channels)\n",
    "            \n",
    "            # Product-specific pricing\n",
    "            base_prices = {\n",
    "                'Laptop': 800, 'Smartphone': 600, 'Tablet': 400, \n",
    "                'Headphones': 100, 'Monitor': 300, 'Keyboard': 50,\n",
    "                'Mouse': 25, 'Printer': 200, 'Camera': 450, 'Smartwatch': 250\n",
    "            }\n",
    "            \n",
    "            quantity = np.random.randint(1, 5)\n",
    "            unit_price = base_prices[product] * np.random.uniform(0.9, 1.1)\n",
    "            total_sales = quantity * unit_price\n",
    "            \n",
    "            data.append({\n",
    "                'Date': date,\n",
    "                'Product': product,\n",
    "                'Region': region,\n",
    "                'Sales_Channel': channel,\n",
    "                'Quantity': quantity,\n",
    "                'Unit_Price': unit_price,\n",
    "                'Total_Sales': total_sales,\n",
    "                'Customer_ID': f\"CUST{np.random.randint(1000, 9999)}\"\n",
    "            })\n",
    "    \n",
    "    return pd.DataFrame(data)\n",
    "\n",
    "# Generate and save sample data\n",
    "sales_df = generate_sample_sales_data()\n",
    "sales_df.to_csv('sales_data.csv', index=False)\n",
    "\n",
    "# Load the CSV file\n",
    "df = pd.read_csv('sales_data.csv')\n",
    "df['Date'] = pd.to_datetime(df['Date'])\n",
    "\n",
    "print(\"📊 Data loaded successfully!\")\n",
    "print(f\"Dataset shape: {df.shape}\")"
   ]
  },
  {
   "cell_type": "code",
   "execution_count": null,
   "metadata": {
    "vscode": {
     "languageId": "plaintext"
    }
   },
   "outputs": [],
   "source": [
    "# Initial data exploration\n",
    "print(\"🔍 DATA OVERVIEW\")\n",
    "print(\"=\"*50)\n",
    "print(df.info())\n",
    "print(\"\\n\" + \"=\"*50)\n",
    "print(\"FIRST 5 ROWS:\")\n",
    "print(df.head())"
   ]
  },
  {
   "cell_type": "code",
   "execution_count": null,
   "metadata": {
    "vscode": {
     "languageId": "plaintext"
    }
   },
   "outputs": [],
   "source": [
    "# Basic statistics\n",
    "print(\"📈 BASIC STATISTICS\")\n",
    "print(\"=\"*50)\n",
    "print(df.describe())"
   ]
  },
  {
   "cell_type": "code",
   "execution_count": null,
   "id": "7920dc03",
   "metadata": {
    "vscode": {
     "languageId": "plaintext"
    }
   },
   "outputs": [],
   "source": [
    "# Check for missing values\n",
    "print(\"🔎 MISSING VALUES CHECK\")\n",
    "print(\"=\"*50)\n",
    "print(df.isnull().sum())"
   ]
  },
  {
   "cell_type": "code",
   "execution_count": null,
   "metadata": {
    "vscode": {
     "languageId": "plaintext"
    }
   },
   "outputs": [],
   "source": [
    "# Data cleaning\n",
    "print(\"🧹 DATA CLEANING\")\n",
    "print(\"=\"*50)\n",
    "\n",
    "# Check for duplicates\n",
    "duplicates = df.duplicated().sum()\n",
    "print(f\"Number of duplicate rows: {duplicates}\")\n",
    "\n",
    "# Remove duplicates if any\n",
    "if duplicates > 0:\n",
    "    df = df.drop_duplicates()\n",
    "    print(f\"Removed {duplicates} duplicate rows\")\n",
    "\n",
    "# Add additional date features\n",
    "df['Month'] = df['Date'].dt.month\n",
    "df['Quarter'] = df['Date'].dt.quarter\n",
    "df['DayOfWeek'] = df['Date'].dt.day_name()\n",
    "df['WeekNumber'] = df['Date'].dt.isocalendar().week\n",
    "\n",
    "print(\"✅ Data cleaning completed!\")\n",
    "print(f\"Final dataset shape: {df.shape}\")"
   ]
  },
  {
   "cell_type": "code",
   "execution_count": null,
   "metadata": {
    "vscode": {
     "languageId": "plaintext"
    }
   },
   "outputs": [],
   "source": [
    "# Overall sales performance\n",
    "print(\"💰 OVERALL SALES PERFORMANCE\")\n",
    "print(\"=\"*50)\n",
    "\n",
    "total_sales = df['Total_Sales'].sum()\n",
    "total_quantity = df['Quantity'].sum()\n",
    "total_transactions = len(df)\n",
    "avg_transaction_value = df['Total_Sales'].mean()\n",
    "\n",
    "print(f\"Total Sales: ${total_sales:,.2f}\")\n",
    "print(f\"Total Quantity Sold: {total_quantity:,}\")\n",
    "print(f\"Total Transactions: {total_transactions:,}\")\n",
    "print(f\"Average Transaction Value: ${avg_transaction_value:.2f}\")"
   ]
  },
  {
   "cell_type": "code",
   "execution_count": null,
   "metadata": {
    "vscode": {
     "languageId": "plaintext"
    }
   },
   "outputs": [],
   "source": [
    "# Monthly sales trend\n",
    "plt.figure(figsize=(15, 10))\n",
    "\n",
    "# Plot 1: Monthly Sales Trend\n",
    "plt.subplot(2, 2, 1)\n",
    "monthly_sales = df.groupby('Month')['Total_Sales'].sum()\n",
    "monthly_sales.plot(kind='line', marker='o', linewidth=2, markersize=8)\n",
    "plt.title('📈 Monthly Sales Trend', fontsize=14, fontweight='bold')\n",
    "plt.xlabel('Month')\n",
    "plt.ylabel('Total Sales ($)')\n",
    "plt.grid(True, alpha=0.3)\n",
    "plt.xticks(range(1, 13))\n",
    "\n",
    "# Add value labels on points\n",
    "for month, sales in monthly_sales.items():\n",
    "    plt.annotate(f'${sales/1000:.0f}K', \n",
    "                (month, sales), \n",
    "                textcoords=\"offset points\", \n",
    "                xytext=(0,10), \n",
    "                ha='center', \n",
    "                fontsize=9)\n",
    "\n",
    "# Plot 2: Sales by Region\n",
    "plt.subplot(2, 2, 2)\n",
    "region_sales = df.groupby('Region')['Total_Sales'].sum().sort_values(ascending=False)\n",
    "colors = ['#FF6B6B', '#4ECDC4', '#45B7D1', '#96CEB4']\n",
    "region_sales.plot(kind='bar', color=colors, alpha=0.8)\n",
    "plt.title('🏢 Sales by Region', fontsize=14, fontweight='bold')\n",
    "plt.xlabel('Region')\n",
    "plt.ylabel('Total Sales ($)')\n",
    "plt.xticks(rotation=45)\n",
    "\n",
    "# Add value labels on bars\n",
    "for i, v in enumerate(region_sales):\n",
    "    plt.annotate(f'${v/1000:.0f}K', \n",
    "                (i, v), \n",
    "                textcoords=\"offset points\", \n",
    "                xytext=(0,5), \n",
    "                ha='center', \n",
    "                fontsize=10)\n",
    "\n",
    "# Plot 3: Sales by Channel\n",
    "plt.subplot(2, 2, 3)\n",
    "channel_sales = df.groupby('Sales_Channel')['Total_Sales'].sum()\n",
    "plt.pie(channel_sales.values, labels=channel_sales.index, autopct='%1.1f%%', \n",
    "        startangle=90, colors=['#FF9999', '#66B2FF', '#99FF99'])\n",
    "plt.title('🛒 Sales Distribution by Channel', fontsize=14, fontweight='bold')\n",
    "\n",
    "# Plot 4: Daily Sales Pattern\n",
    "plt.subplot(2, 2, 4)\n",
    "daily_sales = df.groupby('DayOfWeek')['Total_Sales'].sum()\n",
    "days_order = ['Monday', 'Tuesday', 'Wednesday', 'Thursday', 'Friday', 'Saturday', 'Sunday']\n",
    "daily_sales = daily_sales.reindex(days_order)\n",
    "daily_sales.plot(kind='bar', color='skyblue', alpha=0.8)\n",
    "plt.title('📅 Sales by Day of Week', fontsize=14, fontweight='bold')\n",
    "plt.xlabel('Day of Week')\n",
    "plt.ylabel('Total Sales ($)')\n",
    "plt.xticks(rotation=45)\n",
    "\n",
    "# Add value labels on bars\n",
    "for i, v in enumerate(daily_sales):\n",
    "    plt.annotate(f'${v/1000:.0f}K', \n",
    "                (i, v), \n",
    "                textcoords=\"offset points\", \n",
    "                xytext=(0,5), \n",
    "                ha='center', \n",
    "                fontsize=9)\n",
    "\n",
    "plt.tight_layout()\n",
    "plt.show()"
   ]
  },
  {
   "cell_type": "code",
   "execution_count": null,
   "metadata": {
    "vscode": {
     "languageId": "plaintext"
    }
   },
   "outputs": [],
   "source": [
    "# Product analysis\n",
    "plt.figure(figsize=(15, 12))\n",
    "\n",
    "# Plot 1: Top Selling Products by Revenue\n",
    "plt.subplot(2, 2, 1)\n",
    "product_sales = df.groupby('Product')['Total_Sales'].sum().sort_values(ascending=False)\n",
    "product_sales.head(10).plot(kind='bar', color='lightcoral', alpha=0.8)\n",
    "plt.title('🏆 Top 10 Products by Revenue', fontsize=14, fontweight='bold')\n",
    "plt.xlabel('Product')\n",
    "plt.ylabel('Total Sales ($)')\n",
    "plt.xticks(rotation=45)\n",
    "\n",
    "# Add value labels\n",
    "for i, v in enumerate(product_sales.head(10)):\n",
    "    plt.annotate(f'${v/1000:.1f}K', \n",
    "                (i, v), \n",
    "                textcoords=\"offset points\", \n",
    "                xytext=(0,5), \n",
    "                ha='center', \n",
    "                fontsize=9)\n",
    "\n",
    "# Plot 2: Top Selling Products by Quantity\n",
    "plt.subplot(2, 2, 2)\n",
    "product_quantity = df.groupby('Product')['Quantity'].sum().sort_values(ascending=False)\n",
    "product_quantity.head(10).plot(kind='bar', color='lightgreen', alpha=0.8)\n",
    "plt.title('📦 Top 10 Products by Quantity Sold', fontsize=14, fontweight='bold')\n",
    "plt.xlabel('Product')\n",
    "plt.ylabel('Quantity Sold')\n",
    "plt.xticks(rotation=45)\n",
    "\n",
    "# Add value labels\n",
    "for i, v in enumerate(product_quantity.head(10)):\n",
    "    plt.annotate(f'{v:,}', \n",
    "                (i, v), \n",
    "                textcoords=\"offset points\", \n",
    "                xytext=(0,5), \n",
    "                ha='center', \n",
    "                fontsize=9)\n",
    "\n",
    "# Plot 3: Average Price by Product\n",
    "plt.subplot(2, 2, 3)\n",
    "avg_price = df.groupby('Product')['Unit_Price'].mean().sort_values(ascending=False)\n",
    "avg_price.plot(kind='bar', color='gold', alpha=0.8)\n",
    "plt.title('💰 Average Price by Product', fontsize=14, fontweight='bold')\n",
    "plt.xlabel('Product')\n",
    "plt.ylabel('Average Unit Price ($)')\n",
    "plt.xticks(rotation=45)\n",
    "\n",
    "# Add value labels\n",
    "for i, v in enumerate(avg_price):\n",
    "    plt.annotate(f'${v:.0f}', \n",
    "                (i, v), \n",
    "                textcoords=\"offset points\", \n",
    "                xytext=(0,5), \n",
    "                ha='center', \n",
    "                fontsize=8)\n",
    "\n",
    "# Plot 4: Product Sales Distribution\n",
    "plt.subplot(2, 2, 4)\n",
    "product_performance = df.groupby('Product').agg({\n",
    "    'Total_Sales': 'sum',\n",
    "    'Quantity': 'sum'\n",
    "}).sort_values('Total_Sales', ascending=False)\n",
    "\n",
    "plt.scatter(product_performance['Quantity'], \n",
    "           product_performance['Total_Sales'], \n",
    "           s=100, alpha=0.6, color='purple')\n",
    "\n",
    "# Add product labels\n",
    "for product, row in product_performance.iterrows():\n",
    "    plt.annotate(product, \n",
    "                (row['Quantity'], row['Total_Sales']),\n",
    "                xytext=(5, 5), \n",
    "                textcoords='offset points',\n",
    "                fontsize=9)\n",
    "\n",
    "plt.title('📊 Quantity vs Total Sales by Product', fontsize=14, fontweight='bold')\n",
    "plt.xlabel('Quantity Sold')\n",
    "plt.ylabel('Total Sales ($)')\n",
    "plt.grid(True, alpha=0.3)\n",
    "\n",
    "plt.tight_layout()\n",
    "plt.show()"
   ]
  },
  {
   "cell_type": "code",
   "execution_count": null,
   "id": "88046d47",
   "metadata": {
    "vscode": {
     "languageId": "plaintext"
    }
   },
   "outputs": [],
   "source": [
    "# Advanced groupby analysis\n",
    "print(\"📊 ADVANCED ANALYTICS WITH GROUPBY\")\n",
    "print(\"=\"*50)\n",
    "\n",
    "# Sales by Region and Channel\n",
    "region_channel_sales = df.groupby(['Region', 'Sales_Channel'])['Total_Sales'].sum().unstack()\n",
    "print(\"Sales by Region and Channel:\")\n",
    "print(region_channel_sales)\n",
    "print()\n",
    "\n",
    "# Monthly growth rate\n",
    "monthly_growth = df.groupby('Month')['Total_Sales'].sum().pct_change() * 100\n",
    "print(\"Monthly Growth Rate (%):\")\n",
    "print(monthly_growth)\n",
    "print()\n",
    "\n",
    "# Top performing products by region\n",
    "top_products_by_region = df.groupby(['Region', 'Product'])['Total_Sales'].sum()\n",
    "print(\"Top Product in Each Region:\")\n",
    "for region in df['Region'].unique():\n",
    "    top_product = top_products_by_region[region].idxmax()\n",
    "    top_sales = top_products_by_region[region].max()\n",
    "    print(f\"{region}: {top_product} (${top_sales:,.2f})\")"
   ]
  },
  {
   "cell_type": "code",
   "execution_count": null,
   "metadata": {
    "vscode": {
     "languageId": "plaintext"
    }
   },
   "outputs": [],
   "source": [
    "# Customer analysis\n",
    "plt.figure(figsize=(15, 10))\n",
    "\n",
    "# Plot 1: Top customers by spending\n",
    "plt.subplot(2, 2, 1)\n",
    "top_customers = df.groupby('Customer_ID')['Total_Sales'].sum().sort_values(ascending=False).head(10)\n",
    "top_customers.plot(kind='bar', color='lightseagreen', alpha=0.8)\n",
    "plt.title('👥 Top 10 Customers by Spending', fontsize=14, fontweight='bold')\n",
    "plt.xlabel('Customer ID')\n",
    "plt.ylabel('Total Spending ($)')\n",
    "plt.xticks(rotation=45)\n",
    "\n",
    "# Plot 2: Transaction size distribution\n",
    "plt.subplot(2, 2, 2)\n",
    "plt.hist(df['Total_Sales'], bins=50, color='orange', alpha=0.7, edgecolor='black')\n",
    "plt.title('📊 Transaction Size Distribution', fontsize=14, fontweight='bold')\n",
    "plt.xlabel('Transaction Value ($)')\n",
    "plt.ylabel('Frequency')\n",
    "plt.axvline(df['Total_Sales'].mean(), color='red', linestyle='--', \n",
    "            label=f'Mean: ${df[\"Total_Sales\"].mean():.2f}')\n",
    "plt.legend()\n",
    "\n",
    "# Plot 3: Quantity distribution\n",
    "plt.subplot(2, 2, 3)\n",
    "quantity_dist = df['Quantity'].value_counts().sort_index()\n",
    "quantity_dist.plot(kind='bar', color='lightblue', alpha=0.8)\n",
    "plt.title('📦 Quantity per Transaction', fontsize=14, fontweight='bold')\n",
    "plt.xlabel('Quantity')\n",
    "plt.ylabel('Number of Transactions')\n",
    "\n",
    "# Plot 4: Weekly sales pattern\n",
    "plt.subplot(2, 2, 4)\n",
    "weekly_sales = df.groupby('WeekNumber')['Total_Sales'].sum()\n",
    "plt.plot(weekly_sales.index, weekly_sales.values, marker='o', linewidth=2, color='purple')\n",
    "plt.title('🗓️ Weekly Sales Pattern', fontsize=14, fontweight='bold')\n",
    "plt.xlabel('Week Number')\n",
    "plt.ylabel('Total Sales ($)')\n",
    "plt.grid(True, alpha=0.3)\n",
    "\n",
    "plt.tight_layout()\n",
    "plt.show()"
   ]
  },
  {
   "cell_type": "code",
   "execution_count": null,
   "id": "fad6b92c",
   "metadata": {
    "vscode": {
     "languageId": "plaintext"
    }
   },
   "outputs": [],
   "source": [
    "# Calculate key metrics\n",
    "print(\"🎯 KEY PERFORMANCE INDICATORS (KPIs)\")\n",
    "print(\"=\"*50)\n",
    "\n",
    "# Basic KPIs\n",
    "total_revenue = df['Total_Sales'].sum()\n",
    "avg_order_value = df['Total_Sales'].mean()\n",
    "total_orders = len(df)\n",
    "unique_customers = df['Customer_ID'].nunique()\n",
    "\n",
    "# Advanced KPIs\n",
    "avg_items_per_order = df['Quantity'].mean()\n",
    "revenue_per_customer = total_revenue / unique_customers\n",
    "\n",
    "print(f\"💰 Total Revenue: ${total_revenue:,.2f}\")\n",
    "print(f\"📦 Average Order Value: ${avg_order_value:.2f}\")\n",
    "print(f\"🛒 Total Orders: {total_orders:,}\")\n",
    "print(f\"👥 Unique Customers: {unique_customers:,}\")\n",
    "print(f\"📊 Average Items per Order: {avg_items_per_order:.2f}\")\n",
    "print(f\"💳 Revenue per Customer: ${revenue_per_customer:.2f}\")\n",
    "\n",
    "# Monthly KPIs\n",
    "monthly_kpis = df.groupby('Month').agg({\n",
    "    'Total_Sales': ['sum', 'mean'],\n",
    "    'Customer_ID': 'nunique',\n",
    "    'Quantity': 'sum'\n",
    "}).round(2)\n",
    "\n",
    "monthly_kpis.columns = ['Monthly_Revenue', 'Avg_Order_Value', 'Unique_Customers', 'Total_Quantity']\n",
    "print(\"\\n📈 Monthly KPIs:\")\n",
    "print(monthly_kpis)"
   ]
  },
  {
   "cell_type": "code",
   "execution_count": null,
   "id": "5f0a7283",
   "metadata": {
    "vscode": {
     "languageId": "plaintext"
    }
   },
   "outputs": [],
   "source": [
    "# Simple sales forecasting using moving averages\n",
    "plt.figure(figsize=(15, 5))\n",
    "\n",
    "# Daily sales with moving average\n",
    "daily_sales_ts = df.groupby('Date')['Total_Sales'].sum()\n",
    "\n",
    "# Calculate 7-day and 30-day moving averages\n",
    "daily_sales_ts_7d = daily_sales_ts.rolling(window=7).mean()\n",
    "daily_sales_ts_30d = daily_sales_ts.rolling(window=30).mean()\n",
    "\n",
    "plt.plot(daily_sales_ts.index, daily_sales_ts.values, label='Daily Sales', alpha=0.5, linewidth=1)\n",
    "plt.plot(daily_sales_ts_7d.index, daily_sales_ts_7d.values, label='7-Day Moving Avg', linewidth=2)\n",
    "plt.plot(daily_sales_ts_30d.index, daily_sales_ts_30d.values, label='30-Day Moving Avg', linewidth=2)\n",
    "\n",
    "plt.title('📈 Sales Trend with Moving Averages', fontsize=14, fontweight='bold')\n",
    "plt.xlabel('Date')\n",
    "plt.ylabel('Daily Sales ($)')\n",
    "plt.legend()\n",
    "plt.grid(True, alpha=0.3)\n",
    "plt.tight_layout()\n",
    "plt.show()"
   ]
  },
  {
   "cell_type": "code",
   "execution_count": null,
   "id": "59a0a6db",
   "metadata": {
    "vscode": {
     "languageId": "plaintext"
    }
   },
   "outputs": [],
   "source": [
    "# Generate summary insights\n",
    "print(\"🎉 DATA ANALYSIS SUMMARY & INSIGHTS\")\n",
    "print(\"=\"*60)\n",
    "\n",
    "# Top insights\n",
    "best_month = df.groupby('Month')['Total_Sales'].sum().idxmax()\n",
    "best_region = df.groupby('Region')['Total_Sales'].sum().idxmax()\n",
    "best_product = df.groupby('Product')['Total_Sales'].sum().idxmax()\n",
    "best_channel = df.groupby('Sales_Channel')['Total_Sales'].sum().idxmax()\n",
    "\n",
    "print(\"🏆 TOP PERFORMERS:\")\n",
    "print(f\"• Best Month: Month {best_month}\")\n",
    "print(f\"• Best Region: {best_region}\")\n",
    "print(f\"• Best Product: {best_product}\")\n",
    "print(f\"• Best Channel: {best_channel}\")\n",
    "\n",
    "# Growth insights\n",
    "q1_sales = df[df['Quarter'] == 1]['Total_Sales'].sum()\n",
    "q4_sales = df[df['Quarter'] == 4]['Total_Sales'].sum()\n",
    "growth_rate = ((q4_sales - q1_sales) / q1_sales) * 100\n",
    "\n",
    "print(f\"\\n📈 QUARTERLY GROWTH: {growth_rate:+.1f}% (Q1 to Q4)\")\n",
    "\n",
    "# Customer insights\n",
    "avg_customer_value = df.groupby('Customer_ID')['Total_Sales'].sum().mean()\n",
    "print(f\"\\n👥 CUSTOMER INSIGHTS:\")\n",
    "print(f\"• Average Customer Lifetime Value: ${avg_customer_value:.2f}\")\n",
    "print(f\"• Most Popular Day: {df['DayOfWeek'].mode()[0]}\")\n",
    "print(f\"• Average Items per Transaction: {df['Quantity'].mean():.1f}\")\n",
    "\n",
    "print(\"\\n💡 RECOMMENDATIONS:\")\n",
    "print(\"1. Focus marketing efforts on the top-performing region and channel\")\n",
    "print(\"2. Increase inventory for best-selling products\")\n",
    "print(\"3. Analyze reasons for seasonal trends to optimize staffing\")\n",
    "print(\"4. Implement customer loyalty program for high-value customers\")\n",
    "print(\"5. Explore opportunities in underperforming regions/channels\")"
   ]
  },
  {
   "cell_type": "code",
   "execution_count": null,
   "id": "b4016425",
   "metadata": {
    "vscode": {
     "languageId": "plaintext"
    }
   },
   "outputs": [],
   "source": [
    "# Export key metrics to CSV\n",
    "print(\"💾 EXPORTING RESULTS...\")\n",
    "\n",
    "# Summary statistics\n",
    "summary_stats = df.describe()\n",
    "summary_stats.to_csv('sales_summary_statistics.csv')\n",
    "\n",
    "# Top products\n",
    "top_products = df.groupby('Product').agg({\n",
    "    'Total_Sales': ['sum', 'count'],\n",
    "    'Quantity': 'sum',\n",
    "    'Unit_Price': 'mean'\n",
    "}).round(2)\n",
    "\n",
    "top_products.columns = ['Total_Revenue', 'Transaction_Count', 'Total_Quantity', 'Avg_Unit_Price']\n",
    "top_products = top_products.sort_values('Total_Revenue', ascending=False)\n",
    "top_products.to_csv('product_performance.csv')\n",
    "\n",
    "# Regional performance\n",
    "regional_performance = df.groupby('Region').agg({\n",
    "    'Total_Sales': 'sum',\n",
    "    'Customer_ID': 'nunique',\n",
    "    'Quantity': 'sum'\n",
    "}).round(2)\n",
    "\n",
    "regional_performance.columns = ['Total_Revenue', 'Unique_Customers', 'Total_Quantity']\n",
    "regional_performance.to_csv('regional_performance.csv')\n",
    "\n",
    "print(\"✅ Results exported to CSV files!\")\n",
    "print(\"📁 Files created:\")\n",
    "print(\"   - sales_summary_statistics.csv\")\n",
    "print(\"   - product_performance.csv\")\n",
    "print(\"   - regional_performance.csv\")"
   ]
  },
  {
   "cell_type": "code",
   "execution_count": null,
   "id": "7598b0d9",
   "metadata": {
    "vscode": {
     "languageId": "plaintext"
    }
   },
   "outputs": [],
   "source": []
  },
  {
   "cell_type": "code",
   "execution_count": null,
   "id": "53263fb1",
   "metadata": {
    "vscode": {
     "languageId": "plaintext"
    }
   },
   "outputs": [],
   "source": []
  }
 ],
 "metadata": {
  "language_info": {
   "name": "python"
  }
 },
 "nbformat": 4,
 "nbformat_minor": 5
}
